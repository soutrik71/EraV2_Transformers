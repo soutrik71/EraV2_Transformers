{
 "cells": [
  {
   "cell_type": "markdown",
   "metadata": {},
   "source": [
    "This notebook is to test the vanilla transformer training and validation task for language translation"
   ]
  },
  {
   "cell_type": "code",
   "execution_count": 1,
   "metadata": {},
   "outputs": [
    {
     "data": {
      "application/javascript": "IPython.notebook.set_autosave_interval(300000)"
     },
     "metadata": {},
     "output_type": "display_data"
    },
    {
     "name": "stdout",
     "output_type": "stream",
     "text": [
      "Autosaving every 300 seconds\n"
     ]
    }
   ],
   "source": [
    "%autosave 300\n",
    "%reload_ext autoreload\n",
    "%autoreload 2\n",
    "%config Completer.use_jedi = False"
   ]
  },
  {
   "cell_type": "code",
   "execution_count": 2,
   "metadata": {},
   "outputs": [
    {
     "name": "stdout",
     "output_type": "stream",
     "text": [
      "/mnt/batch/tasks/shared/LS_root/mounts/clusters/insights-model-run2/code/Users/soutrik.chowdhury/EraV2_Transformers\n"
     ]
    }
   ],
   "source": [
    "import os\n",
    "\n",
    "os.chdir(\"/mnt/batch/tasks/shared/LS_root/mounts/clusters/insights-model-run2/code/Users/soutrik.chowdhury/EraV2_Transformers\")\n",
    "print(os.getcwd())"
   ]
  },
  {
   "cell_type": "code",
   "execution_count": 3,
   "metadata": {},
   "outputs": [],
   "source": [
    "from S16_code.config import get_config, get_weights_file_path\n",
    "from S16_code.model import build_transformer\n",
    "import torch\n",
    "from S16_code.dataloader import get_ds\n",
    "from S16_code.trainer import run_validation_loop, run_training_loop, save_model\n",
    "from datasets import load_dataset\n",
    "import torch.optim as optim\n",
    "import torch.nn as nn"
   ]
  },
  {
   "cell_type": "code",
   "execution_count": 4,
   "metadata": {},
   "outputs": [
    {
     "name": "stdout",
     "output_type": "stream",
     "text": [
      "cuda\n"
     ]
    }
   ],
   "source": [
    "device = get_config()[\"device\"]\n",
    "print(device)"
   ]
  },
  {
   "cell_type": "code",
   "execution_count": 5,
   "metadata": {},
   "outputs": [
    {
     "name": "stdout",
     "output_type": "stream",
     "text": [
      "True\n",
      "0\n",
      "Tesla V100-PCIE-16GB\n",
      "0\n",
      "0\n",
      "Tesla V100-PCIE-16GB\n",
      "15.7725830078125\n",
      "|===========================================================================|\n",
      "|                  PyTorch CUDA memory summary, device ID 0                 |\n",
      "|---------------------------------------------------------------------------|\n",
      "|            CUDA OOMs: 0            |        cudaMalloc retries: 0         |\n",
      "|===========================================================================|\n",
      "|        Metric         | Cur Usage  | Peak Usage | Tot Alloc  | Tot Freed  |\n",
      "|---------------------------------------------------------------------------|\n",
      "| Allocated memory      |      0 B   |      0 B   |      0 B   |      0 B   |\n",
      "|       from large pool |      0 B   |      0 B   |      0 B   |      0 B   |\n",
      "|       from small pool |      0 B   |      0 B   |      0 B   |      0 B   |\n",
      "|---------------------------------------------------------------------------|\n",
      "| Active memory         |      0 B   |      0 B   |      0 B   |      0 B   |\n",
      "|       from large pool |      0 B   |      0 B   |      0 B   |      0 B   |\n",
      "|       from small pool |      0 B   |      0 B   |      0 B   |      0 B   |\n",
      "|---------------------------------------------------------------------------|\n",
      "| Requested memory      |      0 B   |      0 B   |      0 B   |      0 B   |\n",
      "|       from large pool |      0 B   |      0 B   |      0 B   |      0 B   |\n",
      "|       from small pool |      0 B   |      0 B   |      0 B   |      0 B   |\n",
      "|---------------------------------------------------------------------------|\n",
      "| GPU reserved memory   |      0 B   |      0 B   |      0 B   |      0 B   |\n",
      "|       from large pool |      0 B   |      0 B   |      0 B   |      0 B   |\n",
      "|       from small pool |      0 B   |      0 B   |      0 B   |      0 B   |\n",
      "|---------------------------------------------------------------------------|\n",
      "| Non-releasable memory |      0 B   |      0 B   |      0 B   |      0 B   |\n",
      "|       from large pool |      0 B   |      0 B   |      0 B   |      0 B   |\n",
      "|       from small pool |      0 B   |      0 B   |      0 B   |      0 B   |\n",
      "|---------------------------------------------------------------------------|\n",
      "| Allocations           |       0    |       0    |       0    |       0    |\n",
      "|       from large pool |       0    |       0    |       0    |       0    |\n",
      "|       from small pool |       0    |       0    |       0    |       0    |\n",
      "|---------------------------------------------------------------------------|\n",
      "| Active allocs         |       0    |       0    |       0    |       0    |\n",
      "|       from large pool |       0    |       0    |       0    |       0    |\n",
      "|       from small pool |       0    |       0    |       0    |       0    |\n",
      "|---------------------------------------------------------------------------|\n",
      "| GPU reserved segments |       0    |       0    |       0    |       0    |\n",
      "|       from large pool |       0    |       0    |       0    |       0    |\n",
      "|       from small pool |       0    |       0    |       0    |       0    |\n",
      "|---------------------------------------------------------------------------|\n",
      "| Non-releasable allocs |       0    |       0    |       0    |       0    |\n",
      "|       from large pool |       0    |       0    |       0    |       0    |\n",
      "|       from small pool |       0    |       0    |       0    |       0    |\n",
      "|---------------------------------------------------------------------------|\n",
      "| Oversize allocations  |       0    |       0    |       0    |       0    |\n",
      "|---------------------------------------------------------------------------|\n",
      "| Oversize GPU segments |       0    |       0    |       0    |       0    |\n",
      "|===========================================================================|\n",
      "\n",
      "(7, 0)\n",
      "_CudaDeviceProperties(name='Tesla V100-PCIE-16GB', major=7, minor=0, total_memory=16151MB, multi_processor_count=80)\n"
     ]
    }
   ],
   "source": [
    "print(torch.cuda.is_available())\n",
    "print(torch.cuda.current_device())\n",
    "print(torch.cuda.get_device_name())\n",
    "print(torch.cuda.memory_allocated())\n",
    "print(torch.cuda.memory_reserved())\n",
    "print(torch.cuda.get_device_name(device.index))\n",
    "print(torch.cuda.get_device_properties(device.index).total_memory / 1024**3)\n",
    "print(torch.cuda.memory_summary(device=device.index))\n",
    "print(torch.cuda.get_device_capability(device.index))\n",
    "print(torch.cuda.get_device_properties(device.index))"
   ]
  },
  {
   "cell_type": "code",
   "execution_count": 6,
   "metadata": {},
   "outputs": [
    {
     "name": "stdout",
     "output_type": "stream",
     "text": [
      "32332\n"
     ]
    }
   ],
   "source": [
    "ds_raw = load_dataset(\n",
    "    get_config()[\"datasource\"],\n",
    "    f\"{get_config()['src_lang']}-{get_config()['tgt_lang']}\",\n",
    "    split=\"train\",\n",
    ")\n",
    "print(len(ds_raw))"
   ]
  },
  {
   "cell_type": "code",
   "execution_count": 7,
   "metadata": {},
   "outputs": [
    {
     "name": "stdout",
     "output_type": "stream",
     "text": [
      "Building tokenizer for en\n",
      "Building tokenizer for it\n",
      "Max length of source sentence: 309\n",
      "Max length of target sentence: 274\n"
     ]
    }
   ],
   "source": [
    "train_dataloader, val_dataloader, tokenizer_src, tokenizer_tgt = get_ds(\n",
    "    ds_raw, get_config()\n",
    ")"
   ]
  },
  {
   "cell_type": "code",
   "execution_count": 8,
   "metadata": {},
   "outputs": [
    {
     "name": "stdout",
     "output_type": "stream",
     "text": [
      "torch.Size([16, 350])\n",
      "torch.Size([16, 350])\n",
      "torch.Size([16, 1, 1, 350])\n",
      "torch.Size([16, 1, 350, 350])\n"
     ]
    }
   ],
   "source": [
    "for data in train_dataloader:\n",
    "    print(data['encoder_input'].shape)\n",
    "    print(data['decoder_input'].shape)\n",
    "    print(data['encoder_mask'].shape)\n",
    "    print(data['decoder_mask'].shape)\n",
    "    break"
   ]
  },
  {
   "cell_type": "code",
   "execution_count": 9,
   "metadata": {},
   "outputs": [
    {
     "name": "stdout",
     "output_type": "stream",
     "text": [
      "torch.Size([1, 350])\n",
      "torch.Size([1, 350])\n",
      "torch.Size([1, 1, 1, 350])\n",
      "torch.Size([1, 1, 350, 350])\n"
     ]
    }
   ],
   "source": [
    "for data in val_dataloader:\n",
    "    print(data['encoder_input'].shape)\n",
    "    print(data['decoder_input'].shape)\n",
    "    print(data['encoder_mask'].shape)\n",
    "    print(data['decoder_mask'].shape)\n",
    "    break"
   ]
  },
  {
   "cell_type": "code",
   "execution_count": 10,
   "metadata": {},
   "outputs": [
    {
     "name": "stdout",
     "output_type": "stream",
     "text": [
      "15698 22463\n"
     ]
    }
   ],
   "source": [
    "print(tokenizer_src.get_vocab_size(), tokenizer_tgt.get_vocab_size())"
   ]
  },
  {
   "cell_type": "code",
   "execution_count": 11,
   "metadata": {},
   "outputs": [],
   "source": [
    "transformer_model = build_transformer(\n",
    "    src_vocab_size=tokenizer_src.get_vocab_size(),\n",
    "    tgt_vocab_size=tokenizer_tgt.get_vocab_size(),\n",
    ").to(device)"
   ]
  },
  {
   "cell_type": "code",
   "execution_count": 12,
   "metadata": {},
   "outputs": [
    {
     "name": "stdout",
     "output_type": "stream",
     "text": [
      "|===========================================================================|\n",
      "|                  PyTorch CUDA memory summary, device ID 0                 |\n",
      "|---------------------------------------------------------------------------|\n",
      "|            CUDA OOMs: 0            |        cudaMalloc retries: 0         |\n",
      "|===========================================================================|\n",
      "|        Metric         | Cur Usage  | Peak Usage | Tot Alloc  | Tot Freed  |\n",
      "|---------------------------------------------------------------------------|\n",
      "| Allocated memory      | 295276 KiB | 295276 KiB | 295276 KiB |      0 B   |\n",
      "|       from large pool | 219812 KiB | 219812 KiB | 219812 KiB |      0 B   |\n",
      "|       from small pool |  75464 KiB |  75464 KiB |  75464 KiB |      0 B   |\n",
      "|---------------------------------------------------------------------------|\n",
      "| Active memory         | 295276 KiB | 295276 KiB | 295276 KiB |      0 B   |\n",
      "|       from large pool | 219812 KiB | 219812 KiB | 219812 KiB |      0 B   |\n",
      "|       from small pool |  75464 KiB |  75464 KiB |  75464 KiB |      0 B   |\n",
      "|---------------------------------------------------------------------------|\n",
      "| Requested memory      | 295015 KiB | 295015 KiB | 295015 KiB |      0 B   |\n",
      "|       from large pool | 219552 KiB | 219552 KiB | 219552 KiB |      0 B   |\n",
      "|       from small pool |  75463 KiB |  75463 KiB |  75463 KiB |      0 B   |\n",
      "|---------------------------------------------------------------------------|\n",
      "| GPU reserved memory   | 301056 KiB | 301056 KiB | 301056 KiB |      0 B   |\n",
      "|       from large pool | 225280 KiB | 225280 KiB | 225280 KiB |      0 B   |\n",
      "|       from small pool |  75776 KiB |  75776 KiB |  75776 KiB |      0 B   |\n",
      "|---------------------------------------------------------------------------|\n",
      "| Non-releasable memory |   5780 KiB |  18424 KiB | 122196 KiB | 116416 KiB |\n",
      "|       from large pool |   5468 KiB |  16384 KiB |  83292 KiB |  77824 KiB |\n",
      "|       from small pool |    312 KiB |   2040 KiB |  38904 KiB |  38592 KiB |\n",
      "|---------------------------------------------------------------------------|\n",
      "| Allocations           |     190    |     190    |     190    |       0    |\n",
      "|       from large pool |      27    |      27    |      27    |       0    |\n",
      "|       from small pool |     163    |     163    |     163    |       0    |\n",
      "|---------------------------------------------------------------------------|\n",
      "| Active allocs         |     190    |     190    |     190    |       0    |\n",
      "|       from large pool |      27    |      27    |      27    |       0    |\n",
      "|       from small pool |     163    |     163    |     163    |       0    |\n",
      "|---------------------------------------------------------------------------|\n",
      "| GPU reserved segments |      45    |      45    |      45    |       0    |\n",
      "|       from large pool |       8    |       8    |       8    |       0    |\n",
      "|       from small pool |      37    |      37    |      37    |       0    |\n",
      "|---------------------------------------------------------------------------|\n",
      "| Non-releasable allocs |       4    |       4    |      43    |      39    |\n",
      "|       from large pool |       2    |       2    |       6    |       4    |\n",
      "|       from small pool |       2    |       2    |      37    |      35    |\n",
      "|---------------------------------------------------------------------------|\n",
      "| Oversize allocations  |       0    |       0    |       0    |       0    |\n",
      "|---------------------------------------------------------------------------|\n",
      "| Oversize GPU segments |       0    |       0    |       0    |       0    |\n",
      "|===========================================================================|\n",
      "\n"
     ]
    }
   ],
   "source": [
    "print(torch.cuda.memory_summary(device=device.index))"
   ]
  },
  {
   "cell_type": "code",
   "execution_count": 13,
   "metadata": {},
   "outputs": [
    {
     "name": "stdout",
     "output_type": "stream",
     "text": [
      "Sun Jun  9 05:45:25 2024       \n",
      "+---------------------------------------------------------------------------------------+\n",
      "| NVIDIA-SMI 535.161.08             Driver Version: 535.161.08   CUDA Version: 12.2     |\n",
      "|-----------------------------------------+----------------------+----------------------+\n",
      "| GPU  Name                 Persistence-M | Bus-Id        Disp.A | Volatile Uncorr. ECC |\n",
      "| Fan  Temp   Perf          Pwr:Usage/Cap |         Memory-Usage | GPU-Util  Compute M. |\n",
      "|                                         |                      |               MIG M. |\n",
      "|=========================================+======================+======================|\n",
      "|   0  Tesla V100-PCIE-16GB           On  | 00000001:00:00.0 Off |                    0 |\n",
      "| N/A   29C    P0              36W / 250W |    604MiB / 16384MiB |      0%      Default |\n",
      "|                                         |                      |                  N/A |\n",
      "+-----------------------------------------+----------------------+----------------------+\n",
      "                                                                                         \n",
      "+---------------------------------------------------------------------------------------+\n",
      "| Processes:                                                                            |\n",
      "|  GPU   GI   CI        PID   Type   Process name                            GPU Memory |\n",
      "|        ID   ID                                                             Usage      |\n",
      "|=======================================================================================|\n",
      "|    0   N/A  N/A     46114      C   /anaconda/envs/torch_env/bin/python         600MiB |\n",
      "+---------------------------------------------------------------------------------------+\n"
     ]
    }
   ],
   "source": [
    "!nvidia-smi"
   ]
  },
  {
   "cell_type": "code",
   "execution_count": 14,
   "metadata": {},
   "outputs": [],
   "source": [
    "optimizer = optim.Adam(transformer_model.parameters(), lr=get_config()[\"learning_rate\"])\n",
    "loss_fn = nn.CrossEntropyLoss(\n",
    "    ignore_index=tokenizer_src.token_to_id(\"[PAD]\"), label_smoothing=0.1\n",
    ")\n",
    "global_step = 0"
   ]
  },
  {
   "cell_type": "code",
   "execution_count": 15,
   "metadata": {},
   "outputs": [
    {
     "name": "stdout",
     "output_type": "stream",
     "text": [
      "Epoch 1\n"
     ]
    },
    {
     "name": "stderr",
     "output_type": "stream",
     "text": [
      "Training:   0%|                                                                                                                                                                                                                                                                                                                                                                                                                                                                                                                                                                                                                                                                                                                                                                                                                                                                                                                                                                                               | 0/1819 [00:00<?, ?it/s]"
     ]
    },
    {
     "name": "stderr",
     "output_type": "stream",
     "text": [
      "Training: 100%|████████████████████████████████████████████████████████████████████████████████████████████████████████████████████████████████████████████████████████████████████████████████████████████████████████████████████████████████████████████████████████████████████████████████████████████████████████████████████████████████████████████████████████████████████████████████████████████████████████████████████████████████████████████████████████████████████████████████████████████████████████████████████████████████████████████████████████████████████████████████████████████████████████████████████████████████████████████████████████████████████████████████████████████████████████████████████████████████████████████████████████████████████████████████████████████████████████████████████████████████████████████████████████████████████████████████████████████████████████████████████████████████████████████████████████████████████████| 1819/1819 [12:11<00:00,  2.49it/s, loss=5.698]\n"
     ]
    },
    {
     "name": "stdout",
     "output_type": "stream",
     "text": [
      "Epoch loss: 5.697751522064209\n"
     ]
    },
    {
     "name": "stderr",
     "output_type": "stream",
     "text": [
      "Validation:   0%|▎                                                                                                                                                                                                                                                                                                                                                                                                                                                                                                                                                                                                                                                                                                                                                                                                                                                                                                                                                                                    | 1/3234 [00:00<09:46,  5.51it/s]"
     ]
    },
    {
     "name": "stdout",
     "output_type": "stream",
     "text": [
      "SOURCE: How and where is he?\n",
      "TARGET: Dov'è?\n",
      "PREDICTED: — Ma , — disse il viso .\n"
     ]
    },
    {
     "name": "stderr",
     "output_type": "stream",
     "text": [
      "Validation:   0%|▎                                                                                                                                                                                                                                                                                                                                                                                                                                                                                                                                                                                                                                                                                                                                                                                                                                                                                                                                                                                    | 1/3234 [00:00<35:22,  1.52it/s]\n"
     ]
    },
    {
     "name": "stdout",
     "output_type": "stream",
     "text": [
      "SOURCE: I rushed to the chair in which he sat.\n",
      "TARGET: Mi precipitai verso la poltrona su cui sedeva sempre.\n",
      "PREDICTED: Ma , che non non non non non non non non non non non non non non non non non non non è stato più di .\n",
      "Epoch 2\n"
     ]
    },
    {
     "name": "stderr",
     "output_type": "stream",
     "text": [
      "Training: 100%|████████████████████████████████████████████████████████████████████████████████████████████████████████████████████████████████████████████████████████████████████████████████████████████████████████████████████████████████████████████████████████████████████████████████████████████████████████████████████████████████████████████████████████████████████████████████████████████████████████████████████████████████████████████████████████████████████████████████████████████████████████████████████████████████████████████████████████████████████████████████████████████████████████████████████████████████████████████████████████████████████████████████████████████████████████████████████████████████████████████████████████████████████████████████████████████████████████████████████████████████████████████████████████████████████████████████████████████████████████████████████████████████████████████████████████████████████████| 1819/1819 [11:56<00:00,  2.54it/s, loss=5.915]\n"
     ]
    },
    {
     "name": "stdout",
     "output_type": "stream",
     "text": [
      "Epoch loss: 5.914846420288086\n"
     ]
    },
    {
     "name": "stderr",
     "output_type": "stream",
     "text": [
      "Validation:   0%|▎                                                                                                                                                                                                                                                                                                                                                                                                                                                                                                                                                                                                                                                                                                                                                                                                                                                                                                                                                                                  | 1/3234 [00:06<5:42:38,  6.36s/it]"
     ]
    },
    {
     "name": "stdout",
     "output_type": "stream",
     "text": [
      "SOURCE: I did not so much as pray to be delivered from it or think of it; it was all of no consideration in comparison to this.\n",
      "TARGET: Che quanto al vivere in solitudine, ciò era un nulla; non pensai nemmeno a pregar Dio per esserne liberato o a fermarmi su tal desiderio; tutto era di nessuna importanza a confronto dell’altra liberazione.\n",
      "PREDICTED: Ma , non si , ma non si , ma non si , ma non si , ma non si , ma non si , ma non si , ma non si , ma non si , ma non si , ma non si , ma non si , ma non si , ma non si , ma non si , ma non si , ma non si , ma non si , ma non si , ma non si , ma non si , ma non si , ma non si , ma non si , ma non si , ma non si , ma non si , ma non si , ma non si , ma non si , ma non si , ma non si , ma non si , ma non si , ma non si , ma non si , ma non si , ma non si , ma non si , ma non si , ma non si , ma non si , ma non si , ma non si , ma non si , ma non si , ma non si , ma non poteva , ma non si , ma non si , ma non si , ma non poteva , ma non si , ma non si , ma non poteva , ma non si , ma non poteva , ma non si , ma non poteva , ma non si , ma non poteva , ma non poteva , ma non poteva , ma non si , ma non si , ma non si , ma non si , ma non si , ma non si , ma non si\n"
     ]
    },
    {
     "name": "stderr",
     "output_type": "stream",
     "text": [
      "Validation:   0%|▎                                                                                                                                                                                                                                                                                                                                                                                                                                                                                                                                                                                                                                                                                                                                                                                                                                                                                                                                                                                  | 1/3234 [00:06<5:58:25,  6.65s/it]\n"
     ]
    },
    {
     "name": "stdout",
     "output_type": "stream",
     "text": [
      "SOURCE: She felt herself crushed and her face expressed it.\n",
      "TARGET: Si sentiva stroncata e il suo viso lo rivelava.\n",
      "PREDICTED: — Sì , signore , — disse la signora Stahl , e non è a dire .\n",
      "Epoch 3\n"
     ]
    },
    {
     "name": "stderr",
     "output_type": "stream",
     "text": [
      "Training: 100%|████████████████████████████████████████████████████████████████████████████████████████████████████████████████████████████████████████████████████████████████████████████████████████████████████████████████████████████████████████████████████████████████████████████████████████████████████████████████████████████████████████████████████████████████████████████████████████████████████████████████████████████████████████████████████████████████████████████████████████████████████████████████████████████████████████████████████████████████████████████████████████████████████████████████████████████████████████████████████████████████████████████████████████████████████████████████████████████████████████████████████████████████████████████████████████████████████████████████████████████████████████████████████████████████████████████████████████████████████████████████████████████████████████████████████████████████████████| 1819/1819 [11:52<00:00,  2.55it/s, loss=5.976]\n"
     ]
    },
    {
     "name": "stdout",
     "output_type": "stream",
     "text": [
      "Epoch loss: 5.976038932800293\n"
     ]
    },
    {
     "name": "stderr",
     "output_type": "stream",
     "text": [
      "Validation:   0%|▎                                                                                                                                                                                                                                                                                                                                                                                                                                                                                                                                                                                                                                                                                                                                                                                                                                                                                                                                                                                    | 1/3234 [00:00<06:30,  8.29it/s]"
     ]
    },
    {
     "name": "stdout",
     "output_type": "stream",
     "text": [
      "SOURCE: \"Cease that chatter, blockhead! and do my bidding.\"\n",
      "TARGET: — Cessate il vostro chiacchierìo stupido e ubbidite.\n",
      "PREDICTED: — E non può essere ?\n"
     ]
    },
    {
     "name": "stderr",
     "output_type": "stream",
     "text": [
      "Validation:   0%|▎                                                                                                                                                                                                                                                                                                                                                                                                                                                                                                                                                                                                                                                                                                                                                                                                                                                                                                                                                                                    | 1/3234 [00:00<14:25,  3.73it/s]\n"
     ]
    },
    {
     "name": "stdout",
     "output_type": "stream",
     "text": [
      "SOURCE: He took out a cigar, and with one hand on his glass he continued: 'Give me some advice.'\n",
      "TARGET: Dimmi tu sinceramente — continuò — dopo aver tirato fuori un sigaro e tenendo la coppa con una mano — dammi un consiglio.\n",
      "PREDICTED: — E non può essere più .\n",
      "Epoch 4\n"
     ]
    },
    {
     "name": "stderr",
     "output_type": "stream",
     "text": [
      "Training: 100%|████████████████████████████████████████████████████████████████████████████████████████████████████████████████████████████████████████████████████████████████████████████████████████████████████████████████████████████████████████████████████████████████████████████████████████████████████████████████████████████████████████████████████████████████████████████████████████████████████████████████████████████████████████████████████████████████████████████████████████████████████████████████████████████████████████████████████████████████████████████████████████████████████████████████████████████████████████████████████████████████████████████████████████████████████████████████████████████████████████████████████████████████████████████████████████████████████████████████████████████████████████████████████████████████████████████████████████████████████████████████████████████████████████████████████████████████████████| 1819/1819 [11:52<00:00,  2.55it/s, loss=5.730]\n"
     ]
    },
    {
     "name": "stdout",
     "output_type": "stream",
     "text": [
      "Epoch loss: 5.729567527770996\n"
     ]
    },
    {
     "name": "stderr",
     "output_type": "stream",
     "text": [
      "Validation:   0%|▎                                                                                                                                                                                                                                                                                                                                                                                                                                                                                                                                                                                                                                                                                                                                                                                                                                                                                                                                                                                  | 1/3234 [00:06<5:37:39,  6.27s/it]"
     ]
    },
    {
     "name": "stdout",
     "output_type": "stream",
     "text": [
      "SOURCE: \"We must become one flesh without any delay, Jane: there is but the licence to get--then we marry.\"\n",
      "TARGET: — Bisogna che siamo subito una cosa sola. Appena ottenuta la licenza ci sposeremo.\n",
      "PREDICTED: — Sì , — disse il Grifone , — disse , — disse , — disse , — disse , — disse , — disse , — disse , — disse , — disse , — disse , — disse , — disse , — disse , — disse , — disse , — disse , — disse , — disse , — disse , — disse , — disse , — disse , — disse , — disse , — disse , — disse , — disse , — disse , — disse , — disse , — disse , — disse , — disse , — disse , — disse , — disse , — disse , — disse , — disse , — disse , — disse , — disse , — disse , — disse , — disse , — disse , — disse , — disse , — disse , — disse , — disse , — disse , — disse , — disse , — disse , — disse , — disse , — disse , — disse , — disse , — disse , — disse , — disse , — disse , — disse , — disse , — disse , — disse , — disse , — disse , — disse , — disse , — disse , — disse , — disse , — disse , — disse , — disse , — disse , — disse , — disse , — disse , — disse , — disse , — disse , — disse , — disse , — disse , — disse , — disse , — disse , — disse , — disse , — disse , — disse , — disse , — disse , — disse , — disse , — disse , — disse , — disse , — disse , — disse , — disse , — disse , — disse , — disse , — disse , — disse , — disse , — disse , — disse , — disse\n"
     ]
    },
    {
     "name": "stderr",
     "output_type": "stream",
     "text": [
      "Validation:   0%|▎                                                                                                                                                                                                                                                                                                                                                                                                                                                                                                                                                                                                                                                                                                                                                                                                                                                                                                                                                                                 | 1/3234 [00:12<11:18:22, 12.59s/it]\n"
     ]
    },
    {
     "name": "stdout",
     "output_type": "stream",
     "text": [
      "SOURCE: So Levin stayed to tea, though his bright spirits had quite vanished and he felt ill at ease.\n",
      "TARGET: Levin rimase lì fino al tè, ma la sua allegria era scomparsa e si sentiva ormai a disagio.\n",
      "PREDICTED: E che non si era un ’ era un uomo , e , e , e , e , e , e , e , e , e , e , e , e , e , e , e , e , e , e , e , e , e , e , e , e , e , e , e , e , e , e , e , e , e , e , e , e , e , e , e , e , e , e , e , e , e , e , e , e , e , e , e , e , e , e , e , e , e , e , e , e , e , e , e , e , e , e , e , e , e , e , e , e , e , e , e , e , e , e , e , e , e , e , e , e , e , e , e , e , e , e , e , e , e , e , e , e , e , e , e , e , e , e , e , e , e , e , e , e , e , e , e , e , e , e , e , e , e , e , e , e , e , e , e , e , e , e , e , e , e , e , e , e , e , e , e , e , e , e , e , e , e , e , e , e , e , e , e , e , e , e , e , e , e , e , e , e , e , e , e , e , e , e , e , e , e , e , e , e , e ,\n",
      "Epoch 5\n"
     ]
    },
    {
     "name": "stderr",
     "output_type": "stream",
     "text": [
      "Training: 100%|████████████████████████████████████████████████████████████████████████████████████████████████████████████████████████████████████████████████████████████████████████████████████████████████████████████████████████████████████████████████████████████████████████████████████████████████████████████████████████████████████████████████████████████████████████████████████████████████████████████████████████████████████████████████████████████████████████████████████████████████████████████████████████████████████████████████████████████████████████████████████████████████████████████████████████████████████████████████████████████████████████████████████████████████████████████████████████████████████████████████████████████████████████████████████████████████████████████████████████████████████████████████████████████████████████████████████████████████████████████████████████████████████████████████████████████████████████| 1819/1819 [12:00<00:00,  2.52it/s, loss=5.994]\n"
     ]
    },
    {
     "name": "stdout",
     "output_type": "stream",
     "text": [
      "Epoch loss: 5.994068145751953\n"
     ]
    },
    {
     "name": "stderr",
     "output_type": "stream",
     "text": [
      "Validation:   0%|▎                                                                                                                                                                                                                                                                                                                                                                                                                                                                                                                                                                                                                                                                                                                                                                                                                                                                                                                                                                                  | 1/3234 [00:06<5:29:53,  6.12s/it]"
     ]
    },
    {
     "name": "stdout",
     "output_type": "stream",
     "text": [
      "SOURCE: 'No! If it were unjust, you could not use such advantages with pleasure; at any rate I could not.\n",
      "TARGET: — No, se questo fosse ingiusto, tu non potresti usufruire con piacere di questi beni, almeno io non potrei.\n",
      "PREDICTED: — No , — disse , — disse , — disse , — disse , — disse , — disse , — disse , — disse , — disse , — disse , — disse , — disse , — disse , — disse , — disse , — disse , — disse , — disse , — disse , — disse , — disse , — disse , — disse , — disse , — disse , — disse , — disse , — disse , — disse , — disse , — disse , — disse , — disse , — disse , — disse , — disse , — disse , — disse , — disse , — disse , — disse , — disse , — disse , — disse , — disse , — disse , — disse , — disse , — disse , — disse , — disse , — disse , — disse , — disse , — disse , — disse , — disse , — disse , — disse , — disse , — disse , — disse , — disse , — disse , — disse , — disse , — disse , — disse , — disse , — disse , — disse , — disse , — disse , — disse , — disse , — disse , — disse , — disse , — disse , — disse , — disse , — disse , — disse , — disse , — disse , — disse , — disse , — disse , — disse , — disse , — disse , — disse , — disse , — disse , — disse , — disse , — disse , — disse , — disse , — disse , — disse , — disse , — disse , — disse , — disse , — disse , — disse , — disse , — disse , — disse , — disse , — disse , — disse , — disse , — disse , —\n"
     ]
    },
    {
     "name": "stderr",
     "output_type": "stream",
     "text": [
      "Validation:   0%|▎                                                                                                                                                                                                                                                                                                                                                                                                                                                                                                                                                                                                                                                                                                                                                                                                                                                                                                                                                                                 | 1/3234 [00:12<11:08:38, 12.41s/it]\n"
     ]
    },
    {
     "name": "stdout",
     "output_type": "stream",
     "text": [
      "SOURCE: She stood talking to a lady at the other end of the lake.\n",
      "TARGET: Lei stava in piedi, parlando con una signora, all’estremo opposto del campo.\n",
      "PREDICTED: — No , — disse , — disse , — disse , — disse , — disse , — disse , — disse , — disse , — disse , — disse , — disse , — disse , — disse , — disse , — disse , — disse , — disse , — disse , — disse , — disse , — disse , — disse , — disse , — disse , — disse , — disse , — disse , — disse , — disse , — disse , — disse , — disse , — disse , — disse , — disse , — disse , — disse , — disse , — disse , — disse , — disse , — disse , — disse , — disse , — disse , — disse , — disse , — disse , — disse , — disse , — disse , — disse , — disse , — disse , — disse , — disse , — disse , — disse , — disse , — disse , — disse , — disse , — disse , — disse , — disse , — disse , — disse , — disse , — disse , — disse , — disse , — disse , — disse , — disse , — disse , — disse , — disse , — disse , — disse , — disse , — disse , — disse , — disse , — disse , — disse , — disse , — disse , — disse , — disse , — disse , — disse , — disse , — disse , — disse , — disse , — disse , — disse , — disse , — disse , — disse , — disse , — disse , — disse , — disse , — disse , — disse , — disse , — disse , — disse , — disse , — disse , — disse , — disse , — disse , — disse , —\n",
      "Epoch 6\n"
     ]
    },
    {
     "name": "stderr",
     "output_type": "stream",
     "text": [
      "Training: 100%|████████████████████████████████████████████████████████████████████████████████████████████████████████████████████████████████████████████████████████████████████████████████████████████████████████████████████████████████████████████████████████████████████████████████████████████████████████████████████████████████████████████████████████████████████████████████████████████████████████████████████████████████████████████████████████████████████████████████████████████████████████████████████████████████████████████████████████████████████████████████████████████████████████████████████████████████████████████████████████████████████████████████████████████████████████████████████████████████████████████████████████████████████████████████████████████████████████████████████████████████████████████████████████████████████████████████████████████████████████████████████████████████████████████████████████████████████████| 1819/1819 [11:56<00:00,  2.54it/s, loss=6.015]\n"
     ]
    },
    {
     "name": "stdout",
     "output_type": "stream",
     "text": [
      "Epoch loss: 6.0147905349731445\n"
     ]
    },
    {
     "name": "stderr",
     "output_type": "stream",
     "text": [
      "Validation:   0%|▎                                                                                                                                                                                                                                                                                                                                                                                                                                                                                                                                                                                                                                                                                                                                                                                                                                                                                                                                                                                    | 1/3234 [00:00<09:32,  5.64it/s]"
     ]
    },
    {
     "name": "stdout",
     "output_type": "stream",
     "text": [
      "SOURCE: \"Mr. Rochester, I will _not_ be yours.\"\n",
      "TARGET: — Signor Rochester, non voglio esser vostra.\n",
      "PREDICTED: — Sì , signore , signore , — disse .\n"
     ]
    },
    {
     "name": "stderr",
     "output_type": "stream",
     "text": [
      "Validation:   0%|▎                                                                                                                                                                                                                                                                                                                                                                                                                                                                                                                                                                                                                                                                                                                                                                                                                                                                                                                                                                                    | 1/3234 [00:00<22:04,  2.44it/s]\n"
     ]
    },
    {
     "name": "stdout",
     "output_type": "stream",
     "text": [
      "SOURCE: \"Your bride stands between us.\"\n",
      "TARGET: — La vostra fidanzata sta fra noi.\n",
      "PREDICTED: — Sì , signore , signore .\n",
      "Epoch 7\n"
     ]
    },
    {
     "name": "stderr",
     "output_type": "stream",
     "text": [
      "Training: 100%|████████████████████████████████████████████████████████████████████████████████████████████████████████████████████████████████████████████████████████████████████████████████████████████████████████████████████████████████████████████████████████████████████████████████████████████████████████████████████████████████████████████████████████████████████████████████████████████████████████████████████████████████████████████████████████████████████████████████████████████████████████████████████████████████████████████████████████████████████████████████████████████████████████████████████████████████████████████████████████████████████████████████████████████████████████████████████████████████████████████████████████████████████████████████████████████████████████████████████████████████████████████████████████████████████████████████████████████████████████████████████████████████████████████████████████████████████████| 1819/1819 [11:55<00:00,  2.54it/s, loss=5.744]\n"
     ]
    },
    {
     "name": "stdout",
     "output_type": "stream",
     "text": [
      "Epoch loss: 5.743694305419922\n"
     ]
    },
    {
     "name": "stderr",
     "output_type": "stream",
     "text": [
      "Validation:   0%|▎                                                                                                                                                                                                                                                                                                                                                                                                                                                                                                                                                                                                                                                                                                                                                                                                                                                                                                                                                                                  | 1/3234 [00:06<5:38:48,  6.29s/it]"
     ]
    },
    {
     "name": "stdout",
     "output_type": "stream",
     "text": [
      "SOURCE: THE PRINCESS SAT IN HER ARMCHAIR silently smiling, and the Prince seated himself beside her. Kitty stood close to her father's chair, still holding his hand.\n",
      "TARGET: La principessa sedeva in poltrona, tacendo e sorridendo; il principe le stava accanto; Kitty stava presso la poltrona del padre senza lasciargli la mano.\n",
      "PREDICTED: — Sì , — disse , — disse , — disse , — disse , — disse , — disse , — disse , — disse , — disse , — disse , — disse , — disse , — disse , — disse , — disse , — disse , — disse , — disse , — disse , — disse , — disse , — disse , — disse , — disse , — disse , — disse , — disse , — disse , — disse , — disse , — disse , — disse , — disse , — disse , — disse , — disse , — disse , — disse , — disse , — disse , — disse , — disse , — disse , — disse , — disse , — disse , — disse , — disse , — disse , — disse , — disse , — disse , — disse , — disse , — disse , — disse , — disse , — disse , — disse , — disse , — disse , — disse , — disse , — disse , — disse , — disse , — disse , — disse , — disse , — disse , — disse , — disse , — disse , — disse , — disse , — disse , — disse , — disse , — disse , — disse , — disse , — disse , — disse , — disse , — disse , — disse , — disse , — disse , — disse , — disse , — disse , — disse , — disse , — disse , — disse , — disse , — disse , — disse , — disse , — disse , — disse , — disse , — disse , — disse , — disse , — disse , — disse , — disse , — disse , — disse , — disse , — disse , — disse , — disse , — disse , —\n"
     ]
    },
    {
     "name": "stderr",
     "output_type": "stream",
     "text": [
      "Validation:   0%|▎                                                                                                                                                                                                                                                                                                                                                                                                                                                                                                                                                                                                                                                                                                                                                                                                                                                                                                                                                                                 | 1/3234 [00:12<11:10:00, 12.43s/it]\n"
     ]
    },
    {
     "name": "stdout",
     "output_type": "stream",
     "text": [
      "SOURCE: The next day, which was Friday, we got them all together, and met in the evening to pack.\n",
      "TARGET: Il giorno dopo, che era venerdì, li mettemmo insieme, e ci riunimmo la sera per fare i bagagli.\n",
      "PREDICTED: — Sì , — disse , — disse , — disse , — disse , — disse , — disse , — disse , — disse , — disse , — disse , — disse , — disse , — disse , — disse , — disse , — disse , — disse , — disse , — disse , — disse , — disse , — disse , — disse , — disse , — disse , — disse , — disse , — disse , — disse , — disse , — disse , — disse , — disse , — disse , — disse , — disse , — disse , — disse , — disse , — disse , — disse , — disse , — disse , — disse , — disse , — disse , — disse , — disse , — disse , — disse , — disse , — disse , — disse , — disse , — disse , — disse , — disse , — disse , — disse , — disse , — disse , — disse , — disse , — disse , — disse , — disse , — disse , — disse , — disse , — disse , — disse , — disse , — disse , — disse , — disse , — disse , — disse , — disse , — disse , — disse , — disse , — disse , — disse , — disse , — disse , — disse , — disse , — disse , — disse , — disse , — disse , — disse , — disse , — disse , — disse , — disse , — disse , — disse , — disse , — disse , — disse , — disse , — disse , — disse , — disse , — disse , — disse , — disse , — disse , — disse , — disse , — disse , — disse , — disse , — disse , —\n",
      "Epoch 8\n"
     ]
    },
    {
     "name": "stderr",
     "output_type": "stream",
     "text": [
      "Training: 100%|████████████████████████████████████████████████████████████████████████████████████████████████████████████████████████████████████████████████████████████████████████████████████████████████████████████████████████████████████████████████████████████████████████████████████████████████████████████████████████████████████████████████████████████████████████████████████████████████████████████████████████████████████████████████████████████████████████████████████████████████████████████████████████████████████████████████████████████████████████████████████████████████████████████████████████████████████████████████████████████████████████████████████████████████████████████████████████████████████████████████████████████████████████████████████████████████████████████████████████████████████████████████████████████████████████████████████████████████████████████████████████████████████████████████████████████████████████| 1819/1819 [12:11<00:00,  2.49it/s, loss=5.708]\n"
     ]
    },
    {
     "name": "stdout",
     "output_type": "stream",
     "text": [
      "Epoch loss: 5.707733631134033\n"
     ]
    },
    {
     "name": "stderr",
     "output_type": "stream",
     "text": [
      "Validation:   0%|▎                                                                                                                                                                                                                                                                                                                                                                                                                                                                                                                                                                                                                                                                                                                                                                                                                                                                                                                                                                                    | 1/3234 [00:00<06:35,  8.17it/s]"
     ]
    },
    {
     "name": "stdout",
     "output_type": "stream",
     "text": [
      "SOURCE: And it's all not the thing, not the thing!'\n",
      "TARGET: E tutto questo non è quel che dovrebbe essere, non è!\n",
      "PREDICTED: — Ma , — disse .\n"
     ]
    },
    {
     "name": "stderr",
     "output_type": "stream",
     "text": [
      "Validation:   0%|▎                                                                                                                                                                                                                                                                                                                                                                                                                                                                                                                                                                                                                                                                                                                                                                                                                                                                                                                                                                                    | 1/3234 [00:00<18:40,  2.89it/s]\n"
     ]
    },
    {
     "name": "stdout",
     "output_type": "stream",
     "text": [
      "SOURCE: Noticing Laska's peculiar manner of searching, as lowering her body almost to the ground she appeared to be dragging her broad hind paws, he knew that she was pointing at snipe, and while running up to her he prayed inwardly for success, especially with the first bird.\n",
      "TARGET: Notato questo speciale braccare di Laska (essa si stringeva tutta al terreno, come se avanzasse a grandi passi raccogliendo con le zampe posteriori, e apriva leggermente la bocca), Levin capì che fiutava le beccacce e, pregando Iddio per il successo, in particolare per il primo uccello, corse verso di essa.\n",
      "PREDICTED: — Ma , — disse , — disse Stepan Arkad ’ ic .\n",
      "Epoch 9\n"
     ]
    },
    {
     "name": "stderr",
     "output_type": "stream",
     "text": [
      "Training: 100%|████████████████████████████████████████████████████████████████████████████████████████████████████████████████████████████████████████████████████████████████████████████████████████████████████████████████████████████████████████████████████████████████████████████████████████████████████████████████████████████████████████████████████████████████████████████████████████████████████████████████████████████████████████████████████████████████████████████████████████████████████████████████████████████████████████████████████████████████████████████████████████████████████████████████████████████████████████████████████████████████████████████████████████████████████████████████████████████████████████████████████████████████████████████████████████████████████████████████████████████████████████████████████████████████████████████████████████████████████████████████████████████████████████████████████████████████████████| 1819/1819 [12:00<00:00,  2.53it/s, loss=5.761]\n"
     ]
    },
    {
     "name": "stdout",
     "output_type": "stream",
     "text": [
      "Epoch loss: 5.761355400085449\n"
     ]
    },
    {
     "name": "stderr",
     "output_type": "stream",
     "text": [
      "Validation:   0%|▎                                                                                                                                                                                                                                                                                                                                                                                                                                                                                                                                                                                                                                                                                                                                                                                                                                                                                                                                                                                    | 1/3234 [00:00<11:05,  4.86it/s]"
     ]
    },
    {
     "name": "stdout",
     "output_type": "stream",
     "text": [
      "SOURCE: Feeling without judgment is a washy draught indeed; but judgment untempered by feeling is too bitter and husky a morsel for human deglutition.\n",
      "TARGET: Il sentimento senza il criterio è una bevanda insipida, ma il criterio senza il sentimento è troppo amaro e troppo aspro perché l'uomo possa inghiottirlo.\n",
      "PREDICTED: — Sì , — disse , — disse , — disse .\n"
     ]
    },
    {
     "name": "stderr",
     "output_type": "stream",
     "text": [
      "Validation:   0%|▎                                                                                                                                                                                                                                                                                                                                                                                                                                                                                                                                                                                                                                                                                                                                                                                                                                                                                                                                                                                    | 1/3234 [00:00<25:31,  2.11it/s]\n"
     ]
    },
    {
     "name": "stdout",
     "output_type": "stream",
     "text": [
      "SOURCE: I was surprised with this at first, but soon concluded it must be done by the earthquake; and as by this violence the ship was more broke open than formerly, so many things came daily on shore, which the sea had loosened, and which the winds and water rolled by degrees to the land.\n",
      "TARGET: La cosa mi fece stupore alla prima, ma conchiusi tosto esser questa una conseguenza del tremuoto; e poichè in forza di tale sconquasso lo scheletro del vascello rimase più sbandato di prima, arrivavano di giorno in giorno alla spiaggia molte cose che il mare avea poste in libertà, e che i venti e l’acqua mandavano a riva di mano in mano.\n",
      "PREDICTED: — Ma che cosa cosa non è più che non è più di .\n",
      "Epoch 10\n"
     ]
    },
    {
     "name": "stderr",
     "output_type": "stream",
     "text": [
      "Training: 100%|████████████████████████████████████████████████████████████████████████████████████████████████████████████████████████████████████████████████████████████████████████████████████████████████████████████████████████████████████████████████████████████████████████████████████████████████████████████████████████████████████████████████████████████████████████████████████████████████████████████████████████████████████████████████████████████████████████████████████████████████████████████████████████████████████████████████████████████████████████████████████████████████████████████████████████████████████████████████████████████████████████████████████████████████████████████████████████████████████████████████████████████████████████████████████████████████████████████████████████████████████████████████████████████████████████████████████████████████████████████████████████████████████████████████████████████████████████| 1819/1819 [11:55<00:00,  2.54it/s, loss=5.959]\n"
     ]
    },
    {
     "name": "stdout",
     "output_type": "stream",
     "text": [
      "Epoch loss: 5.959231853485107\n"
     ]
    },
    {
     "name": "stderr",
     "output_type": "stream",
     "text": [
      "Validation:   0%|▎                                                                                                                                                                                                                                                                                                                                                                                                                                                                                                                                                                                                                                                                                                                                                                                                                                                                                                                                                                                  | 1/3234 [00:06<5:24:21,  6.02s/it]"
     ]
    },
    {
     "name": "stdout",
     "output_type": "stream",
     "text": [
      "SOURCE: He rose and went toward the door.\n",
      "TARGET: Si alzò e si diresse verso la porta.\n",
      "PREDICTED: — Sì , signore , signore , signore , signore , signore , signore , signore , signore , signore , signore , signore , signore , signore , signore , signore , signore , signore , signore , signore , signore , signore , signore , signore , signore , signore , signore , signore , signore , signore , signore , signore , signore , signore , signore , signore , signore , signore , signore , signore , signore , signore , signore , signore , signore , signore , signore , signore , signore , signore , signore , signore , signore , signore , signore , signore , signore , signore , signore , signore , signore , signore , signore , signore , signore , signore , signore , signore , signore , signore , signore , signore , signore , signore , signore , signore , signore , signore , signore , signore , signore , signore , signore , signore , signore , signore , signore , signore , signore , signore , signore , signore , signore , signore , signore , signore , signore , signore , signore , signore , signore , signore , signore , signore , signore , signore , signore , signore , signore , signore , signore , signore , signore , signore , signore , signore , signore , signore , signore , signore , signore , signore , signore , signore , signore , signore , signore , signore , signore , signore , signore , signore , signore , signore , signore , signore , signore , signore , signore , signore , signore , signore , signore , signore , signore , signore , signore , signore , signore , signore , signore , signore , signore , signore , signore , signore , signore , signore , signore , signore , signore , signore , signore , signore , signore , signore , signore , signore , signore , signore , signore , signore , signore , signore ,\n"
     ]
    },
    {
     "name": "stderr",
     "output_type": "stream",
     "text": [
      "Validation:   0%|▎                                                                                                                                                                                                                                                                                                                                                                                                                                                                                                                                                                                                                                                                                                                                                                                                                                                                                                                                                                                 | 1/3234 [00:12<10:57:45, 12.21s/it]\n"
     ]
    },
    {
     "name": "stdout",
     "output_type": "stream",
     "text": [
      "SOURCE: It was the manner in which all this, and much more, was said—it was the apparent heart that went with his request—which allowed me no room for hesitation; and I accordingly obeyed forthwith what I still considered a very singular summons.\n",
      "TARGET: Era il tono con cui eran dette tutte queste cose e ben altre ancora, era quell'espansione d'un cuore supplichevole, che non mi permetteva d'esitare; quindi obbedii, immediatamente a quello che consideravo tuttavia come uno degli inviti più singolari.\n",
      "PREDICTED: — No , non mi , — disse , — disse , — disse , — disse , — disse , — disse , — disse , — disse , — disse , — disse , — disse , — disse , — disse , — disse , — disse , — disse , — disse , — disse , — disse , — disse , — disse , — disse , — disse , — disse , — disse , — disse , — disse , — disse , — disse , — disse , — disse , — disse , — disse , — disse , — disse , — disse , — disse , — disse , — disse , — disse , — disse , — disse , — disse , — disse , — disse , — disse , — disse , — disse , — disse , — disse , — disse , — disse , — disse , — disse , — disse , — disse , — disse , — disse , — disse , — disse , — disse , — disse , — disse , — disse , — disse , — disse , — disse , — disse , — disse , — disse , — disse , — disse , — disse , — disse , — disse , — disse , — disse , — disse , — disse , — disse , — disse , — disse , — disse , — disse , — disse , — disse , — disse , — disse , — disse , — disse , — disse , — disse , — disse , — disse , — disse , — disse , — disse , — disse , — disse , — disse , — disse , — disse , — disse , — disse , — disse , — disse , — disse , — disse , — disse , — disse , — disse , — disse , — disse , — disse ,\n"
     ]
    }
   ],
   "source": [
    "for epoch in range(get_config()[\"num_epochs\"]):\n",
    "    print(f\"Epoch {epoch + 1}\")\n",
    "    torch.cuda.empty_cache()\n",
    "    epoch_loss, global_step = run_training_loop(\n",
    "        transformer_model,\n",
    "        train_dataloader,\n",
    "        tokenizer_tgt,\n",
    "        optimizer,\n",
    "        loss_fn,\n",
    "        device,\n",
    "        global_step,\n",
    "    )\n",
    "    print(f\"Epoch loss: {epoch_loss}\")\n",
    "    run_validation_loop(\n",
    "        transformer_model,\n",
    "        val_dataloader,\n",
    "        tokenizer_src,\n",
    "        tokenizer_tgt,\n",
    "        device,\n",
    "        get_config()[\"seq_len\"],\n",
    "        2,\n",
    "    )\n",
    "    model_path = get_weights_file_path(get_config(), epoch)\n",
    "    save_model(epoch, transformer_model, optimizer, global_step, model_path)"
   ]
  },
  {
   "cell_type": "markdown",
   "metadata": {},
   "source": [
    "# Next steps: \n",
    "* Check prediction loss for both tran and val\n",
    "* add metrics from torch metrics\n",
    "* add tensorboard logging\n",
    "* add gradient clipping\n",
    "* add learning rate scheduler\n",
    "* add AMP - automatic mixed precision\n",
    "* add distributed training\n",
    "* add model parallelism\n",
    "* add data parallelism\n",
    "* add pipeline parallelism\n",
    "* add checkpointing\n",
    "* add model optimization\n",
    "* add best prediction mechanism\n",
    "* Application of gelu\n",
    "  "
   ]
  },
  {
   "cell_type": "markdown",
   "metadata": {},
   "source": []
  }
 ],
 "metadata": {
  "kernelspec": {
   "display_name": "torch_env",
   "language": "python",
   "name": "python3"
  },
  "language_info": {
   "codemirror_mode": {
    "name": "ipython",
    "version": 3
   },
   "file_extension": ".py",
   "mimetype": "text/x-python",
   "name": "python",
   "nbconvert_exporter": "python",
   "pygments_lexer": "ipython3",
   "version": "3.10.14"
  }
 },
 "nbformat": 4,
 "nbformat_minor": 2
}
